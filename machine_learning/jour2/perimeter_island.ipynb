{
 "cells": [
  {
   "cell_type": "code",
   "execution_count": 12,
   "metadata": {},
   "outputs": [],
   "source": [
    "class Solution(object):\n",
    "    def islandPerimeter(self, grid):\n",
    "        \"\"\"\n",
    "        :type grid: List[List[int]]\n",
    "        :rtype: int\n",
    "        \"\"\"\n",
    "        perimeter = 0\n",
    "        rows = len(grid)\n",
    "        cols = len(grid[0])\n",
    "        \n",
    "        for i in range(rows):\n",
    "            for j in range(cols):\n",
    "                if grid[i][j] == 1:\n",
    "                    \n",
    "                    if i == 0 or grid[i - 1][j] == 0:\n",
    "                        perimeter += 1\n",
    "                    \n",
    "                    if i == rows - 1 or grid[i + 1][j] == 0:\n",
    "                        perimeter += 1\n",
    "                    \n",
    "                    if j == 0 or grid[i][j - 1] == 0:\n",
    "                        perimeter += 1\n",
    "                   \n",
    "                    if j == cols - 1 or grid[i][j + 1] == 0:\n",
    "                        perimeter += 1\n",
    "                        \n",
    "        return perimeter\n",
    "        print(solution.islandPerimeter([[0,1,0,0],[1,1,1,0],[0,1,0,0],[1,1,0,0]]))\n",
    "        "
   ]
  }
 ],
 "metadata": {
  "kernelspec": {
   "display_name": "Python 3",
   "language": "python",
   "name": "python3"
  },
  "language_info": {
   "codemirror_mode": {
    "name": "ipython",
    "version": 3
   },
   "file_extension": ".py",
   "mimetype": "text/x-python",
   "name": "python",
   "nbconvert_exporter": "python",
   "pygments_lexer": "ipython3",
   "version": "3.10.0"
  }
 },
 "nbformat": 4,
 "nbformat_minor": 2
}
