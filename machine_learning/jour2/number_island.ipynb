{
 "cells": [
  {
   "cell_type": "code",
   "execution_count": 1,
   "metadata": {},
   "outputs": [],
   "source": [
    "class Solution(object):\n",
    "    def numIslands(self, grid):\n",
    "        if not grid:\n",
    "            return 0\n",
    "        \n",
    "        count = 0\n",
    "        for i in range(len(grid)):\n",
    "            for j in range(len(grid[0])):\n",
    "                if grid[i][j] == '1':\n",
    "                    self.dfs(grid, i, j)\n",
    "                    count += 1\n",
    "        return count\n",
    "    \n",
    "    def dfs(self, grid, i, j):\n",
    "        if i < 0 or j < 0 or i >= len(grid) or j >= len(grid[0]) or grid[i][j] != '1':\n",
    "            return\n",
    "        \n",
    "        grid[i][j] = '0'  \n",
    "        \n",
    "       \n",
    "        self.dfs(grid, i - 1, j)  \n",
    "        self.dfs(grid, i + 1, j)  \n",
    "        self.dfs(grid, i, j - 1)  \n",
    "        self.dfs(grid, i, j + 1)  \n"
   ]
  },
  {
   "cell_type": "code",
   "execution_count": 7,
   "metadata": {},
   "outputs": [],
   "source": [
    "t = [1,3,-8,7,-1,2,3]\n",
    "\n",
    "def somme_max(arr):\n",
    "    max_actuel = max_final = arr[0]\n",
    "    \n",
    "    for i in range(1, len(arr)):\n",
    "        max_actuel = max(arr[i], max_actuel + arr[i])\n",
    "        if max_actuel > max_final:\n",
    "            max_final = max_actuel\n",
    "            \n",
    "    return max_final"
   ]
  },
  {
   "cell_type": "code",
   "execution_count": 8,
   "metadata": {},
   "outputs": [
    {
     "name": "stdout",
     "output_type": "stream",
     "text": [
      "11\n"
     ]
    }
   ],
   "source": [
    "print(somme_max(t))"
   ]
  },
  {
   "cell_type": "code",
   "execution_count": null,
   "metadata": {},
   "outputs": [],
   "source": [
    "t = [2,3,-8,7,-1,2,3]\n",
    "\n",
    "maxS=[]\n"
   ]
  }
 ],
 "metadata": {
  "kernelspec": {
   "display_name": "Python 3",
   "language": "python",
   "name": "python3"
  },
  "language_info": {
   "codemirror_mode": {
    "name": "ipython",
    "version": 3
   },
   "file_extension": ".py",
   "mimetype": "text/x-python",
   "name": "python",
   "nbconvert_exporter": "python",
   "pygments_lexer": "ipython3",
   "version": "3.10.0"
  }
 },
 "nbformat": 4,
 "nbformat_minor": 2
}
