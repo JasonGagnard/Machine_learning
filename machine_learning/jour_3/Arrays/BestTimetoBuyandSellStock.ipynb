{
 "cells": [
  {
   "cell_type": "code",
   "execution_count": 1,
   "metadata": {},
   "outputs": [],
   "source": [
    "class Solution(object):\n",
    "    def maxProfit(self, prices):\n",
    "        \"\"\"\n",
    "        :type prices: List[int]\n",
    "        :rtype: int\n",
    "        \"\"\"\n",
    "        if not prices:\n",
    "            return 0\n",
    "\n",
    "        min_price = prices[0]\n",
    "        max_profit = 0\n",
    "        for  price in prices[1:]:\n",
    "            if price < min_price:\n",
    "                min_price = price\n",
    "            else:\n",
    "                profit = price - min_price\n",
    "                max_profit = max(max_profit, profit)\n",
    "        return max_profit"
   ]
  },
  {
   "cell_type": "code",
   "execution_count": 2,
   "metadata": {},
   "outputs": [
    {
     "name": "stdout",
     "output_type": "stream",
     "text": [
      "[7, 1, 5, 3, 6, 4]: 5\n"
     ]
    }
   ],
   "source": [
    "\n",
    "prices = [7,1,5,3,6,4]\n",
    "print( f\"{prices}: {Solution().maxProfit(prices)}\")\n",
    "\n"
   ]
  }
 ],
 "metadata": {
  "kernelspec": {
   "display_name": "Python 3",
   "language": "python",
   "name": "python3"
  },
  "language_info": {
   "codemirror_mode": {
    "name": "ipython",
    "version": 3
   },
   "file_extension": ".py",
   "mimetype": "text/x-python",
   "name": "python",
   "nbconvert_exporter": "python",
   "pygments_lexer": "ipython3",
   "version": "3.10.0"
  }
 },
 "nbformat": 4,
 "nbformat_minor": 2
}
