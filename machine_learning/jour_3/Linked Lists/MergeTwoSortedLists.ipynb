{
 "cells": [
  {
   "cell_type": "code",
   "execution_count": 1,
   "metadata": {},
   "outputs": [],
   "source": [
    "# Definition for singly-linked list.\n",
    "# class ListNode(object):\n",
    "#     def __init__(self, val=0, next=None):\n",
    "#         self.val = val\n",
    "#         self.next = next\n",
    "\n",
    "class Solution(object):\n",
    "    def mergeTwoLists(self, list1, list2):\n",
    "        \"\"\"\n",
    "        :type list1: Optional[ListNode]\n",
    "        :type list2: Optional[ListNode]\n",
    "        :rtype: Optional[ListNode]\n",
    "        \"\"\"\n",
    "    \n",
    "        new_list = ListNode(0)  \n",
    "        actual_list = new_list\n",
    "        \n",
    "        while list1 and list2:\n",
    "            if list1.val <= list2.val:\n",
    "                actual_list.next = list1\n",
    "                list1 = list1.next\n",
    "            else:\n",
    "                actual_list.next = list2\n",
    "                list2 = list2.next\n",
    "            actual_list = actual_list.next\n",
    "        \n",
    "        if list1:\n",
    "            actual_list.next = list1\n",
    "        if list2:\n",
    "            actual_list.next = list2\n",
    "        \n",
    "        return new_list.next  "
   ]
  }
 ],
 "metadata": {
  "kernelspec": {
   "display_name": "Python 3",
   "language": "python",
   "name": "python3"
  },
  "language_info": {
   "codemirror_mode": {
    "name": "ipython",
    "version": 3
   },
   "file_extension": ".py",
   "mimetype": "text/x-python",
   "name": "python",
   "nbconvert_exporter": "python",
   "pygments_lexer": "ipython3",
   "version": "3.10.0"
  }
 },
 "nbformat": 4,
 "nbformat_minor": 2
}
