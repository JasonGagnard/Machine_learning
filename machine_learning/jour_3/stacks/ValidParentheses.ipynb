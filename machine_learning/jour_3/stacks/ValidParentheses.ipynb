{
 "cells": [
  {
   "cell_type": "code",
   "execution_count": null,
   "metadata": {},
   "outputs": [],
   "source": [
    "class Solution(object):\n",
    "    def isValid(self, s):\n",
    "        \"\"\"\n",
    "        :type s: str\n",
    "        :rtype: bool\n",
    "        \"\"\"\n",
    "        stack = []\n",
    "        symbol_list = {\")\": \"(\", \"}\": \"{\", \"]\": \"[\"}\n",
    "        \n",
    "        for char in s:\n",
    "            if char in symbol_list:\n",
    "                if not stack or stack[-1] != symbol_list[char]:\n",
    "                    return False\n",
    "                stack.pop()\n",
    "            else:\n",
    "                stack.append(char)\n",
    "        \n",
    "        return len(stack) == 0 "
   ]
  }
 ],
 "metadata": {
  "language_info": {
   "name": "python"
  }
 },
 "nbformat": 4,
 "nbformat_minor": 2
}
